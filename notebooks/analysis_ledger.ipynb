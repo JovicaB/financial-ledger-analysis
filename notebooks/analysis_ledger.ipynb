{
 "cells": [
  {
   "cell_type": "markdown",
   "metadata": {},
   "source": [
    "# FINANCIAL ANALYSIS\n",
    "\n",
    "based on the following data:\n",
    "\n",
    "- JOURNAL ENTRIES (5 YEARS)\n",
    "- FINANCIAL STATEMENTS (5 YEARS)\n",
    "- FINANCIAL STATEMENTS OF THE 5 MOST SIGNIFICANT COMPETITORS (1 YEAR)"
   ]
  },
  {
   "cell_type": "markdown",
   "metadata": {},
   "source": [
    "### Import dependancies"
   ]
  },
  {
   "cell_type": "code",
   "execution_count": 1,
   "metadata": {},
   "outputs": [],
   "source": [
    "from glob import glob\n",
    "import os\n",
    "import sys\n",
    "\n",
    "import pandas as pd\n",
    "import matplotlib.pyplot as plt\n",
    "# import matplotlib.ticker as ticker\n",
    "# from matplotlib.widgets import Cursor\n",
    "import numpy as np\n",
    "import seaborn as sns\n",
    "\n",
    "sys.path.append(os.path.abspath(os.path.join('..', 'src')))\n",
    "\n",
    "from components import ComponentsLedger\n",
    "from utilities import Utilities"
   ]
  },
  {
   "cell_type": "code",
   "execution_count": 2,
   "metadata": {},
   "outputs": [],
   "source": [
    "# helper variables\n",
    "years = [2019, 2020, 2021, 2022, 2023]"
   ]
  },
  {
   "cell_type": "markdown",
   "metadata": {},
   "source": [
    "### Load data"
   ]
  },
  {
   "cell_type": "code",
   "execution_count": 3,
   "metadata": {},
   "outputs": [
    {
     "data": {
      "text/plain": [
       "['../data/parquet\\\\financial_journal_2019.parquet',\n",
       " '../data/parquet\\\\financial_journal_2020.parquet',\n",
       " '../data/parquet\\\\financial_journal_2021.parquet',\n",
       " '../data/parquet\\\\financial_journal_2022.parquet',\n",
       " '../data/parquet\\\\financial_journal_2023.parquet']"
      ]
     },
     "execution_count": 3,
     "metadata": {},
     "output_type": "execute_result"
    }
   ],
   "source": [
    "ledger_files = sorted(glob(\"../data/parquet/financial_journal_*.parquet\"))\n",
    "\n",
    "df = pd.concat((pd.read_parquet(file) for file in ledger_files))\n",
    "ledger_files"
   ]
  },
  {
   "cell_type": "markdown",
   "metadata": {},
   "source": [
    "## 1. Data Filtering\n",
    "\n",
    "The exported data has already been processed (since it reflects the company’s financial changes throughout the year), except for the opening and closing balances, i.e., the carryover of the opening balance (duplicate values from the previous year) and the final entries (duplicate values for the current year to balance the debit and credit sides).\n",
    "\n",
    "The financial statements and competitor reports were exported from the website of the Agency for Business Registers, so no further cleaning is required.\n",
    "\n",
    "Napomena: S obzirom na to da identifikator završnih knjiženja nije poznat, nisu sva završna knjiženja uklonjena, međutim završna knjiženja grupa 5 i 6 se nalaze na obrnutoj strani što neće imati uticaja na dalju analizu."
   ]
  },
  {
   "cell_type": "code",
   "execution_count": 7,
   "metadata": {},
   "outputs": [
    {
     "data": {
      "text/html": [
       "<div>\n",
       "<style scoped>\n",
       "    .dataframe tbody tr th:only-of-type {\n",
       "        vertical-align: middle;\n",
       "    }\n",
       "\n",
       "    .dataframe tbody tr th {\n",
       "        vertical-align: top;\n",
       "    }\n",
       "\n",
       "    .dataframe thead th {\n",
       "        text-align: right;\n",
       "    }\n",
       "</style>\n",
       "<table border=\"1\" class=\"dataframe\">\n",
       "  <thead>\n",
       "    <tr style=\"text-align: right;\">\n",
       "      <th></th>\n",
       "      <th>date</th>\n",
       "      <th>account</th>\n",
       "      <th>debit</th>\n",
       "      <th>credit</th>\n",
       "    </tr>\n",
       "  </thead>\n",
       "  <tbody>\n",
       "    <tr>\n",
       "      <th>4434</th>\n",
       "      <td>2019-01-02</td>\n",
       "      <td>34100</td>\n",
       "      <td>95074521.37</td>\n",
       "      <td>0.00</td>\n",
       "    </tr>\n",
       "    <tr>\n",
       "      <th>4435</th>\n",
       "      <td>2019-01-02</td>\n",
       "      <td>34001</td>\n",
       "      <td>0.00</td>\n",
       "      <td>95074521.37</td>\n",
       "    </tr>\n",
       "    <tr>\n",
       "      <th>4436</th>\n",
       "      <td>2019-01-02</td>\n",
       "      <td>023102</td>\n",
       "      <td>662752.75</td>\n",
       "      <td>0.00</td>\n",
       "    </tr>\n",
       "    <tr>\n",
       "      <th>4437</th>\n",
       "      <td>2019-01-02</td>\n",
       "      <td>029302</td>\n",
       "      <td>0.00</td>\n",
       "      <td>44183.52</td>\n",
       "    </tr>\n",
       "    <tr>\n",
       "      <th>4438</th>\n",
       "      <td>2019-01-02</td>\n",
       "      <td>22820</td>\n",
       "      <td>-295000.00</td>\n",
       "      <td>0.00</td>\n",
       "    </tr>\n",
       "  </tbody>\n",
       "</table>\n",
       "</div>"
      ],
      "text/plain": [
       "           date account        debit       credit\n",
       "4434 2019-01-02   34100  95074521.37         0.00\n",
       "4435 2019-01-02   34001         0.00  95074521.37\n",
       "4436 2019-01-02  023102    662752.75         0.00\n",
       "4437 2019-01-02  029302         0.00     44183.52\n",
       "4438 2019-01-02   22820   -295000.00         0.00"
      ]
     },
     "execution_count": 7,
     "metadata": {},
     "output_type": "execute_result"
    }
   ],
   "source": [
    "df['date'] = pd.to_datetime(df['date'])\n",
    "\n",
    "df = df[~((df['date'].dt.month == 1) & (df['date'].dt.day == 1))]\n",
    "df = df[~(df['account'].str.startswith(('599', '699', '7')))]\n",
    "\n",
    "df.head()"
   ]
  },
  {
   "cell_type": "markdown",
   "metadata": {},
   "source": [
    "## 2. Data analysis & Visual Presentation"
   ]
  },
  {
   "cell_type": "markdown",
   "metadata": {},
   "source": [
    "### 2.1. Capital Expenditures"
   ]
  },
  {
   "cell_type": "markdown",
   "metadata": {},
   "source": [
    "#### Comparison of Capital Expenditure and Revenue Growth\n",
    "It shows how investment in fixed assets contributes to revenue growth, without necessarily emphasizing causality, as revenues are also influenced by other factors."
   ]
  },
  {
   "cell_type": "code",
   "execution_count": 5,
   "metadata": {},
   "outputs": [
    {
     "data": {
      "text/html": [
       "<div>\n",
       "<style scoped>\n",
       "    .dataframe tbody tr th:only-of-type {\n",
       "        vertical-align: middle;\n",
       "    }\n",
       "\n",
       "    .dataframe tbody tr th {\n",
       "        vertical-align: top;\n",
       "    }\n",
       "\n",
       "    .dataframe thead th {\n",
       "        text-align: right;\n",
       "    }\n",
       "</style>\n",
       "<table border=\"1\" class=\"dataframe\">\n",
       "  <thead>\n",
       "    <tr style=\"text-align: right;\">\n",
       "      <th></th>\n",
       "      <th>year</th>\n",
       "      <th>debit</th>\n",
       "    </tr>\n",
       "  </thead>\n",
       "  <tbody>\n",
       "    <tr>\n",
       "      <th>0</th>\n",
       "      <td>2019</td>\n",
       "      <td>383534.0</td>\n",
       "    </tr>\n",
       "    <tr>\n",
       "      <th>1</th>\n",
       "      <td>2020</td>\n",
       "      <td>383535.0</td>\n",
       "    </tr>\n",
       "    <tr>\n",
       "      <th>2</th>\n",
       "      <td>2021</td>\n",
       "      <td>1210649.0</td>\n",
       "    </tr>\n",
       "    <tr>\n",
       "      <th>3</th>\n",
       "      <td>2022</td>\n",
       "      <td>14722612.5</td>\n",
       "    </tr>\n",
       "    <tr>\n",
       "      <th>4</th>\n",
       "      <td>2023</td>\n",
       "      <td>14722613.5</td>\n",
       "    </tr>\n",
       "  </tbody>\n",
       "</table>\n",
       "</div>"
      ],
      "text/plain": [
       "   year       debit\n",
       "0  2019    383534.0\n",
       "1  2020    383535.0\n",
       "2  2021   1210649.0\n",
       "3  2022  14722612.5\n",
       "4  2023  14722613.5"
      ]
     },
     "execution_count": 5,
     "metadata": {},
     "output_type": "execute_result"
    }
   ],
   "source": [
    "# extract capital expenditures data [buildings]\n",
    "\n",
    "df_buildings = (\n",
    "    df[df['account'].str.startswith('022')]\n",
    "    .drop(columns=['credit'], errors='ignore')\n",
    "    .query(\"debit > 0\")\n",
    "    .assign(year=lambda x: pd.to_datetime(x['date']).dt.year)\n",
    "    .groupby('year', as_index=False)['debit'].sum()\n",
    ")\n",
    "\n",
    "df_equipment = (\n",
    "    df[df['account'].str.startswith('023')]\n",
    "    .drop(columns=['credit'], errors='ignore')\n",
    "    .query(\"debit > 0\")\n",
    "    .assign(year=lambda x: pd.to_datetime(x['date']).dt.year)\n",
    "    .groupby('year', as_index=False)['debit'].sum()\n",
    ")\n",
    "\n",
    "df_revenue = (\n",
    "    df[(df['account'].str.startswith('60')) | (df['account'].str.startswith('61'))]\n",
    "    .query(\"credit > 0\")\n",
    "    .assign(year=lambda x: pd.to_datetime(x['date']).dt.year)\n",
    "    .groupby('year', as_index=False)['credit'].sum()\n",
    ")\n",
    "\n",
    "xxx = ComponentsLedger.calculate_increasing_column_value(df_buildings, 'debit')\n",
    "# df_equipment = ComponentsLedger.get_account_data(df, '023')\n",
    "# df_revenue = ComponentsLedger.get_account_data(df['60', '61'])\n",
    "\n",
    "xxx\n",
    "# df_buildings\n",
    "# df_2_1_cap_exp_buildings['month_year'] = df_2_1_cap_exp_buildings['date'].dt.to_period('M')\n",
    "\n",
    "# # Group by month-year and sum the debit column\n",
    "# monthly_sums = df_2_1_cap_exp_buildings.groupby('month_year')['debit'].sum()\n",
    "\n",
    "# # Convert to a dictionary with 'month-year' as keys\n",
    "# monthly_sums_dict = {str(period): value for period, value in monthly_sums.items()}\n",
    "\n",
    "# df_2_1_cap_exp_buildings"
   ]
  },
  {
   "cell_type": "code",
   "execution_count": 6,
   "metadata": {},
   "outputs": [
    {
     "ename": "NameError",
     "evalue": "name 'components_class_obj' is not defined",
     "output_type": "error",
     "traceback": [
      "\u001b[1;31m---------------------------------------------------------------------------\u001b[0m",
      "\u001b[1;31mNameError\u001b[0m                                 Traceback (most recent call last)",
      "Cell \u001b[1;32mIn[6], line 1\u001b[0m\n\u001b[1;32m----> 1\u001b[0m df_buildings \u001b[38;5;241m=\u001b[39m \u001b[43mcomponents_class_obj\u001b[49m\u001b[38;5;241m.\u001b[39maccount_df([\u001b[38;5;124m'\u001b[39m\u001b[38;5;124m022\u001b[39m\u001b[38;5;124m'\u001b[39m])\n\u001b[0;32m      2\u001b[0m df_equipment \u001b[38;5;241m=\u001b[39m components_class_obj\u001b[38;5;241m.\u001b[39maccount_df([\u001b[38;5;124m'\u001b[39m\u001b[38;5;124m023\u001b[39m\u001b[38;5;124m'\u001b[39m])\n\u001b[0;32m      3\u001b[0m df_revenue \u001b[38;5;241m=\u001b[39m components_class_obj\u001b[38;5;241m.\u001b[39maccount_df([\u001b[38;5;124m'\u001b[39m\u001b[38;5;124m60\u001b[39m\u001b[38;5;124m'\u001b[39m, \u001b[38;5;124m'\u001b[39m\u001b[38;5;124m61\u001b[39m\u001b[38;5;124m'\u001b[39m])\n",
      "\u001b[1;31mNameError\u001b[0m: name 'components_class_obj' is not defined"
     ]
    }
   ],
   "source": [
    "df_buildings = components_class_obj.account_df(['022'])\n",
    "df_equipment = components_class_obj.account_df(['023'])\n",
    "df_revenue = components_class_obj.account_df(['60', '61'])\n",
    "\n",
    "buildings_sum_per_year = df_buildings.groupby(df_buildings['date'].dt.year)['debit'].sum()\n",
    "equipment_sum_per_year = df_equipment.groupby(df_equipment['date'].dt.year)['debit'].sum()\n",
    "revenue_sum_per_year = df_equipment.groupby(df_equipment['date'].dt.year)['debit'].sum()\n",
    "\n",
    "\n",
    "# uradilti graf i neki indikator povezanosti ili nepovezanosti"
   ]
  },
  {
   "cell_type": "markdown",
   "metadata": {},
   "source": [
    "### VISUALIZATION"
   ]
  },
  {
   "cell_type": "code",
   "execution_count": null,
   "metadata": {},
   "outputs": [],
   "source": [
    "##2 lines"
   ]
  },
  {
   "cell_type": "markdown",
   "metadata": {},
   "source": [
    "### CORRELATION: "
   ]
  },
  {
   "cell_type": "code",
   "execution_count": null,
   "metadata": {},
   "outputs": [],
   "source": [
    "###scatter"
   ]
  },
  {
   "cell_type": "markdown",
   "metadata": {},
   "source": [
    "## 2. Inventory\n",
    "\n",
    "Data extraction: Inventory value for each month"
   ]
  },
  {
   "cell_type": "code",
   "execution_count": null,
   "metadata": {},
   "outputs": [],
   "source": [
    "# pocetno stanje zaliha\n",
    "pocetno_stanje_zaliha = df_yr1\n",
    "starting_date = pocetno_stanje_zaliha['date'].min()\n",
    "filtered_df = pocetno_stanje_zaliha[(pocetno_stanje_zaliha['account'].str.startswith('13')) & (pocetno_stanje_zaliha['date'] == starting_date)]\n",
    "debit_sum = filtered_df['debit'].sum()\n",
    "credit_sum = filtered_df['credit'].sum()\n",
    "inventory_starting_balance = debit_sum - credit_sum\n",
    "\n",
    "inventory_starting_balance\n",
    "\n",
    "roba = components_class_obj.account_df(['13'])\n",
    "\n",
    "# Group by year and month, then sum the debit and credit columns\n",
    "monthly_summary = roba.groupby(roba['date'].dt.to_period('M')).agg(\n",
    "    Total_Debit=('debit', 'sum'),\n",
    "    Total_Credit=('credit', 'sum')\n",
    ").reset_index()\n",
    "\n",
    "# Inventory value total\n",
    "monthly_summary['Inventory_Value'] = inventory_starting_balance + monthly_summary['Total_Debit'].cumsum() - monthly_summary['Total_Credit'].cumsum()\n",
    "\n",
    "# Column selection\n",
    "monthly_summary = monthly_summary[['date', 'Inventory_Value']]\n",
    "\n",
    "inventory_series = monthly_summary['Inventory_Value']"
   ]
  },
  {
   "cell_type": "markdown",
   "metadata": {},
   "source": [
    "### Customers' Invoice Monthly Value for Inventory Analysis.\n",
    "\n",
    "Comparing the inventory value in the warehouse (purchase vs. sale value), with added initial stock, and the monthly customer value, the goal was to roughly determine whether the inventory is overstocked or optimized to meet typical demand. Although the inventory output value without margins and dependent costs is already reflected in the customer value, it provides a general indication of whether stock levels are well-managed or excessive."
   ]
  },
  {
   "cell_type": "code",
   "execution_count": null,
   "metadata": {},
   "outputs": [],
   "source": [
    "df_buyers = components_class_obj.account_df(['60'])\n",
    "df_buyers = df_buyers.drop(columns=['credit'])\n",
    "# checking accounts in df_buyers\n",
    "# account_list = df_buyers['account'].apply(lambda x: x.split('-')[0]).drop_duplicates().tolist()\n",
    "\n",
    "buyers_monthly = df_buyers.groupby(df_buyers['date'].dt.to_period('M')).agg(\n",
    "    Total_Debit=('debit', 'sum')\n",
    ").reset_index()\n",
    "\n",
    "customer_series = buyers_monthly['Total_Debit']"
   ]
  },
  {
   "cell_type": "markdown",
   "metadata": {},
   "source": [
    "### VISUALIZATION: Current Monthly Warehouse Inventory Value & Customer Monthly Demand\n",
    "\n",
    "Provides a visual representation of potential warehouse overstock by comparing the current inventory value with customer demand."
   ]
  },
  {
   "cell_type": "code",
   "execution_count": null,
   "metadata": {},
   "outputs": [
    {
     "data": {
      "image/png": "[encoded data removed]",
      "text/plain": [
       "<Figure size 640x480 with 1 Axes>"
      ]
     },
     "metadata": {},
     "output_type": "display_data"
    }
   ],
   "source": [
    "# Group by year and month for buyers_monthly\n",
    "buyers_monthly = df_buyers.groupby(df_buyers['date'].dt.to_period('M')).agg(\n",
    "    Total_Debit=('debit', 'sum')\n",
    ").reset_index()\n",
    "\n",
    "fig, ax = plt.subplots()\n",
    "\n",
    "# Line chart sa shaded delom ispod linije za inventory\n",
    "ax.plot(monthly_summary['date'].astype(str), monthly_summary['Inventory_Value'], label='Inventory Value', color=(0.5, 0.5, 0.5))\n",
    "ax.fill_between(monthly_summary['date'].astype(str), monthly_summary['Inventory_Value'], color=(0.5, 0.5, 0.5), alpha=0.3)\n",
    "\n",
    "# Obeležavanje tačaka za svaki mesec\n",
    "points = ax.scatter(monthly_summary['date'].astype(str), monthly_summary['Inventory_Value'], color=(0.8, 0.2, 0.2), s=25, zorder=5)\n",
    "\n",
    "# Linijski graf za buyers_monthly (plava boja)\n",
    "ax.plot(buyers_monthly['date'].astype(str), buyers_monthly['Total_Debit'], label='Buyers Monthly Debit', color='blue')\n",
    "\n",
    "# Oznake na X osi (meseci)\n",
    "ax.set_xticks(range(len(monthly_summary['date'])))\n",
    "ax.set_xticklabels(monthly_summary['date'].astype(str), rotation=45, ha='center')\n",
    "\n",
    "# Oznake na Y osi u hiljadama ili milionima\n",
    "def thousands_or_millions(x, pos):\n",
    "    if x >= 1e6:\n",
    "        return f'{x/1e6:.1f}M'\n",
    "    elif x >= 1e3:\n",
    "        return f'{x/1e3:.1f}K'\n",
    "    else:\n",
    "        return str(x)\n",
    "\n",
    "ax.yaxis.set_major_formatter(ticker.FuncFormatter(thousands_or_millions))\n",
    "\n",
    "# Definiši srednju vrednost\n",
    "mean_value = monthly_summary['Inventory_Value'].mean()\n",
    "\n",
    "# Postavi y granice\n",
    "ax.set_ylim(0, max(monthly_summary['Inventory_Value'].max(), buyers_monthly['Total_Debit'].max()) * 1.1)  # Dodaj malo prostora iznad maksimalne vrednosti\n",
    "\n",
    "# Dodaj horizontalnu liniju na srednjoj vrednosti za zalihe\n",
    "ax.axhline(y=mean_value, color=(0.8, 0.2, 0.2), linestyle='--', label='Mean Inventory Value')\n",
    "\n",
    "# Dodavanje naslova i labela\n",
    "ax.set_title('Inventory Value and Buyers Monthly Debit Over Time')\n",
    "ax.set_xlabel('Month')\n",
    "ax.set_ylabel('Value')\n",
    "\n",
    "# Dodajemo interaktivni prikaz vrednosti pri kliku\n",
    "annot = ax.annotate(\"\", xy=(0,0), xytext=(20,20),\n",
    "                    textcoords=\"offset points\",\n",
    "                    bbox=dict(boxstyle=\"round\", fc=\"w\"),\n",
    "                    arrowprops=dict(arrowstyle=\"->\"))\n",
    "annot.set_visible(False)\n",
    "\n",
    "def update_annot(ind):\n",
    "    pos = points.get_offsets()[ind[\"ind\"][0]]\n",
    "    annot.xy = pos  # Set annotation position\n",
    "    # Set the annotation text\n",
    "    text = f\"Month: {monthly_summary['date'].iloc[ind['ind'][0]]}\\nValue: {pos[1]:.2f}\"\n",
    "    annot.set_text(text)\n",
    "    # Optional: You can change the annotation's background color here if needed\n",
    "    annot.get_bbox_patch().set_facecolor('white')\n",
    "\n",
    "def onclick(event):\n",
    "    if event.inaxes == ax:\n",
    "        # Check if a point is clicked\n",
    "        cont, ind = points.contains(event)\n",
    "        if cont:\n",
    "            # If a point is clicked, update the annotation\n",
    "            update_annot(ind)\n",
    "            annot.set_visible(True)\n",
    "            fig.canvas.draw_idle()  # Redraw the canvas to show the annotation\n",
    "        else:\n",
    "            # If no point is clicked, hide the annotation\n",
    "            annot.set_visible(False)\n",
    "            fig.canvas.draw_idle()\n",
    "\n",
    "# Povezivanje sa click eventom\n",
    "fig.canvas.mpl_connect(\"button_press_event\", onclick)\n",
    "\n",
    "# Dodavanje kursora za preciznost pri kliku\n",
    "cursor = Cursor(ax, useblit=True, color='red', linewidth=1)\n",
    "\n",
    "plt.legend()  # Prikazujemo legendu\n",
    "plt.tight_layout()\n",
    "plt.show()\n"
   ]
  },
  {
   "cell_type": "markdown",
   "metadata": {},
   "source": [
    "### CORRELATION: Inventory Stock & Customer Demand\n",
    "\n",
    "Comparison between two NumPy series: customer demand and net inventory stock to determine if there is a connection between proper inventory management and demand for inventory stocks."
   ]
  },
  {
   "cell_type": "code",
   "execution_count": null,
   "metadata": {},
   "outputs": [
    {
     "name": "stdout",
     "output_type": "stream",
     "text": [
      "Correlation coefficient: 0.22328876671899328\n"
     ]
    }
   ],
   "source": [
    "correlation_matrix = np.corrcoef(inventory_series, customer_series)\n",
    "\n",
    "# Extract the correlation coefficient (the value at position [0, 1] or [1, 0] in the matrix)\n",
    "correlation_coefficient = correlation_matrix[0, 1]\n",
    "\n",
    "print(\"Correlation coefficient:\", correlation_coefficient)"
   ]
  },
  {
   "cell_type": "code",
   "execution_count": null,
   "metadata": {},
   "outputs": [],
   "source": [
    "### scatter"
   ]
  }
 ],
 "metadata": {
  "kernelspec": {
   "display_name": "env",
   "language": "python",
   "name": "python3"
  },
  "language_info": {
   "codemirror_mode": {
    "name": "ipython",
    "version": 3
   },
   "file_extension": ".py",
   "mimetype": "text/x-python",
   "name": "python",
   "nbconvert_exporter": "python",
   "pygments_lexer": "ipython3",
   "version": "3.12.4"
  }
 },
 "nbformat": 4,
 "nbformat_minor": 2
}
