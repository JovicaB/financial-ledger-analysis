{
 "cells": [
  {
   "cell_type": "markdown",
   "metadata": {},
   "source": [
    "## DATA ANALYSIS: LEDGER"
   ]
  },
  {
   "cell_type": "markdown",
   "metadata": {},
   "source": [
    "### Import dependancies"
   ]
  },
  {
   "cell_type": "code",
   "execution_count": 6,
   "metadata": {},
   "outputs": [],
   "source": [
    "import duckdb\n",
    "import json\n",
    "import pandas as pd\n",
    "import matplotlib.pyplot\n",
    "import numpy"
   ]
  },
  {
   "cell_type": "markdown",
   "metadata": {},
   "source": [
    "### Data source"
   ]
  },
  {
   "cell_type": "code",
   "execution_count": 24,
   "metadata": {},
   "outputs": [],
   "source": [
    "data_source_ledger_yr_1 = \"../data/parquet/financial_journal_2022.parquet\"\n",
    "data_source_ledger_yr_2 = \"../data/parquet/financial_journal_2023.parquet\"\n",
    "\n",
    "data_souce_account_chart = \"../data/accounts_chart.json\"\n"
   ]
  },
  {
   "cell_type": "markdown",
   "metadata": {},
   "source": [
    "### Load & merge ledger data"
   ]
  },
  {
   "cell_type": "code",
   "execution_count": 27,
   "metadata": {},
   "outputs": [],
   "source": [
    "conn = duckdb.connect(database=':memory:') \n",
    "\n",
    "conn.execute(f\"\"\"\n",
    "    CREATE TABLE financial_reports AS\n",
    "    SELECT *\n",
    "    FROM read_parquet('{data_source_ledger_yr_1}')\n",
    "\"\"\")\n",
    "\n",
    "df_yr1 = conn.execute(\"SELECT * FROM financial_reports\").fetchdf()"
   ]
  },
  {
   "cell_type": "code",
   "execution_count": null,
   "metadata": {},
   "outputs": [],
   "source": [
    "conn = duckdb.connect(database=':memory:') \n",
    "\n",
    "conn.execute(f\"\"\"\n",
    "    CREATE TABLE financial_reports AS\n",
    "    SELECT *\n",
    "    FROM read_parquet('{data_source_ledger_yr_2}')\n",
    "\"\"\")\n",
    "\n",
    "df_yr2 = conn.execute(\"SELECT * FROM financial_reports\").fetchdf()\n",
    "\n",
    "df = pd.concat([df_yr1, df_yr2])"
   ]
  },
  {
   "cell_type": "markdown",
   "metadata": {},
   "source": [
    "### Load account chart into df"
   ]
  },
  {
   "cell_type": "code",
   "execution_count": 30,
   "metadata": {},
   "outputs": [],
   "source": [
    "with open(data_souce_account_chart, \"r\", encoding=\"utf-8\") as file:\n",
    "    data_source_account_chart = json.load(file)\n",
    "\n",
    "df_accounts_chart = pd.DataFrame(list(data_source_account_chart.items()), columns=['account', 'description'])\n"
   ]
  }
 ],
 "metadata": {
  "kernelspec": {
   "display_name": "env",
   "language": "python",
   "name": "python3"
  },
  "language_info": {
   "codemirror_mode": {
    "name": "ipython",
    "version": 3
   },
   "file_extension": ".py",
   "mimetype": "text/x-python",
   "name": "python",
   "nbconvert_exporter": "python",
   "pygments_lexer": "ipython3",
   "version": "3.12.4"
  }
 },
 "nbformat": 4,
 "nbformat_minor": 2
}
