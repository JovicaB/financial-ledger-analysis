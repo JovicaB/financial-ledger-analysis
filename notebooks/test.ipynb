{
 "cells": [
  {
   "cell_type": "code",
   "execution_count": 3,
   "metadata": {},
   "outputs": [],
   "source": [
    "file_path = \"../data/csv/competitors_fr.csv\"\n",
    "\n",
    "import pandas as pd\n",
    "\n",
    "# Load the CSV while specifying dtype for 'AOP' to preserve leading zeros\n",
    "df = pd.read_csv(\"../data/csv/competitors_fr.csv\", dtype={'AOP': str})\n",
    "\n",
    "# Modify the headers\n",
    "df.columns = ['AOP', 'description', 'competitor_1', 'competitor_2', 'competitor_3', 'competitor_4', 'competitor_5']\n",
    "\n",
    "# Save back to CSV\n",
    "df.to_csv('competitors_fr2.csv', index=False)"
   ]
  }
 ],
 "metadata": {
  "kernelspec": {
   "display_name": "env",
   "language": "python",
   "name": "python3"
  },
  "language_info": {
   "codemirror_mode": {
    "name": "ipython",
    "version": 3
   },
   "file_extension": ".py",
   "mimetype": "text/x-python",
   "name": "python",
   "nbconvert_exporter": "python",
   "pygments_lexer": "ipython3",
   "version": "3.12.4"
  }
 },
 "nbformat": 4,
 "nbformat_minor": 2
}
